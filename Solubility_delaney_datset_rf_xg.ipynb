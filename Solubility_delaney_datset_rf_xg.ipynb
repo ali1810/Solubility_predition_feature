{
  "nbformat": 4,
  "nbformat_minor": 0,
  "metadata": {
    "colab": {
      "name": "Solubility_delaney_datset_rf_xg.ipynb",
      "provenance": [],
      "collapsed_sections": [],
      "mount_file_id": "1kgBII_yssafU8Ic32yL2PAgzX0glHLK6",
      "authorship_tag": "ABX9TyNHnTKw3vSA/+4k/x2FqOLg",
      "include_colab_link": true
    },
    "kernelspec": {
      "name": "python3",
      "display_name": "Python 3"
    },
    "language_info": {
      "name": "python"
    }
  },
  "cells": [
    {
      "cell_type": "markdown",
      "metadata": {
        "id": "view-in-github",
        "colab_type": "text"
      },
      "source": [
        "<a href=\"https://colab.research.google.com/github/ali1810/Solubility_predition_feature/blob/main/Solubility_delaney_datset_rf_xg.ipynb\" target=\"_parent\"><img src=\"https://colab.research.google.com/assets/colab-badge.svg\" alt=\"Open In Colab\"/></a>"
      ]
    },
    {
      "cell_type": "code",
      "metadata": {
        "id": "GTGIUu0ahoFy"
      },
      "source": [
        "import pandas as pd"
      ],
      "execution_count": null,
      "outputs": []
    },
    {
      "cell_type": "code",
      "metadata": {
        "colab": {
          "base_uri": "https://localhost:8080/",
          "height": 528
        },
        "id": "dM_4Ge24h4Hs",
        "outputId": "7f8febe5-79f7-4bb9-b4c0-dc9a47e95777"
      },
      "source": [
        "sol = pd.read_csv('/content/drive/MyDrive/delaney.csv')\n",
        "sol"
      ],
      "execution_count": null,
      "outputs": [
        {
          "output_type": "execute_result",
          "data": {
            "text/html": [
              "<div>\n",
              "<style scoped>\n",
              "    .dataframe tbody tr th:only-of-type {\n",
              "        vertical-align: middle;\n",
              "    }\n",
              "\n",
              "    .dataframe tbody tr th {\n",
              "        vertical-align: top;\n",
              "    }\n",
              "\n",
              "    .dataframe thead th {\n",
              "        text-align: right;\n",
              "    }\n",
              "</style>\n",
              "<table border=\"1\" class=\"dataframe\">\n",
              "  <thead>\n",
              "    <tr style=\"text-align: right;\">\n",
              "      <th></th>\n",
              "      <th>Compound ID</th>\n",
              "      <th>measured log(solubility:mol/L)</th>\n",
              "      <th>ESOL predicted log(solubility:mol/L)</th>\n",
              "      <th>SMILES</th>\n",
              "    </tr>\n",
              "  </thead>\n",
              "  <tbody>\n",
              "    <tr>\n",
              "      <th>0</th>\n",
              "      <td>1,1,1,2-Tetrachloroethane</td>\n",
              "      <td>-2.180</td>\n",
              "      <td>-2.794</td>\n",
              "      <td>ClCC(Cl)(Cl)Cl</td>\n",
              "    </tr>\n",
              "    <tr>\n",
              "      <th>1</th>\n",
              "      <td>1,1,1-Trichloroethane</td>\n",
              "      <td>-2.000</td>\n",
              "      <td>-2.232</td>\n",
              "      <td>CC(Cl)(Cl)Cl</td>\n",
              "    </tr>\n",
              "    <tr>\n",
              "      <th>2</th>\n",
              "      <td>1,1,2,2-Tetrachloroethane</td>\n",
              "      <td>-1.740</td>\n",
              "      <td>-2.549</td>\n",
              "      <td>ClC(Cl)C(Cl)Cl</td>\n",
              "    </tr>\n",
              "    <tr>\n",
              "      <th>3</th>\n",
              "      <td>1,1,2-Trichloroethane</td>\n",
              "      <td>-1.480</td>\n",
              "      <td>-1.961</td>\n",
              "      <td>ClCC(Cl)Cl</td>\n",
              "    </tr>\n",
              "    <tr>\n",
              "      <th>4</th>\n",
              "      <td>1,1,2-Trichlorotrifluoroethane</td>\n",
              "      <td>-3.040</td>\n",
              "      <td>-3.077</td>\n",
              "      <td>FC(F)(Cl)C(F)(Cl)Cl</td>\n",
              "    </tr>\n",
              "    <tr>\n",
              "      <th>...</th>\n",
              "      <td>...</td>\n",
              "      <td>...</td>\n",
              "      <td>...</td>\n",
              "      <td>...</td>\n",
              "    </tr>\n",
              "    <tr>\n",
              "      <th>1139</th>\n",
              "      <td>vamidothion</td>\n",
              "      <td>1.144</td>\n",
              "      <td>-1.446</td>\n",
              "      <td>CNC(=O)C(C)SCCSP(=O)(OC)(OC)</td>\n",
              "    </tr>\n",
              "    <tr>\n",
              "      <th>1140</th>\n",
              "      <td>Vinclozolin</td>\n",
              "      <td>-4.925</td>\n",
              "      <td>-4.377</td>\n",
              "      <td>CC1(OC(=O)N(C1=O)c2cc(Cl)cc(Cl)c2)C=C</td>\n",
              "    </tr>\n",
              "    <tr>\n",
              "      <th>1141</th>\n",
              "      <td>Warfarin</td>\n",
              "      <td>-3.893</td>\n",
              "      <td>-3.913</td>\n",
              "      <td>CC(=O)CC(c1ccccc1)c3c(O)c2ccccc2oc3=O</td>\n",
              "    </tr>\n",
              "    <tr>\n",
              "      <th>1142</th>\n",
              "      <td>Xipamide</td>\n",
              "      <td>-3.790</td>\n",
              "      <td>-3.642</td>\n",
              "      <td>Cc1cccc(C)c1NC(=O)c2cc(c(Cl)cc2O)S(N)(=O)=O</td>\n",
              "    </tr>\n",
              "    <tr>\n",
              "      <th>1143</th>\n",
              "      <td>XMC</td>\n",
              "      <td>-2.581</td>\n",
              "      <td>-2.688</td>\n",
              "      <td>CNC(=O)Oc1cc(C)cc(C)c1</td>\n",
              "    </tr>\n",
              "  </tbody>\n",
              "</table>\n",
              "<p>1144 rows × 4 columns</p>\n",
              "</div>"
            ],
            "text/plain": [
              "                         Compound ID  ...                                       SMILES\n",
              "0          1,1,1,2-Tetrachloroethane  ...                               ClCC(Cl)(Cl)Cl\n",
              "1              1,1,1-Trichloroethane  ...                                 CC(Cl)(Cl)Cl\n",
              "2          1,1,2,2-Tetrachloroethane  ...                               ClC(Cl)C(Cl)Cl\n",
              "3              1,1,2-Trichloroethane  ...                                   ClCC(Cl)Cl\n",
              "4     1,1,2-Trichlorotrifluoroethane  ...                          FC(F)(Cl)C(F)(Cl)Cl\n",
              "...                              ...  ...                                          ...\n",
              "1139                     vamidothion  ...                 CNC(=O)C(C)SCCSP(=O)(OC)(OC)\n",
              "1140                     Vinclozolin  ...        CC1(OC(=O)N(C1=O)c2cc(Cl)cc(Cl)c2)C=C\n",
              "1141                        Warfarin  ...       CC(=O)CC(c1ccccc1)c3c(O)c2ccccc2oc3=O \n",
              "1142                        Xipamide  ...  Cc1cccc(C)c1NC(=O)c2cc(c(Cl)cc2O)S(N)(=O)=O\n",
              "1143                             XMC  ...                       CNC(=O)Oc1cc(C)cc(C)c1\n",
              "\n",
              "[1144 rows x 4 columns]"
            ]
          },
          "metadata": {},
          "execution_count": 12
        }
      ]
    },
    {
      "cell_type": "code",
      "metadata": {
        "id": "uG8ezFrmoqjo"
      },
      "source": [
        "sol[\"smiles_length\"]= sol[\"SMILES\"].apply(len)"
      ],
      "execution_count": null,
      "outputs": []
    },
    {
      "cell_type": "code",
      "metadata": {
        "colab": {
          "base_uri": "https://localhost:8080/"
        },
        "id": "dINrET04oqsY",
        "outputId": "099ebf9e-eb7a-4b6d-d6e9-b0f89383f544"
      },
      "source": [
        "max_lenghth=max(sol[\"smiles_length\"])\n",
        "max_lenghth"
      ],
      "execution_count": null,
      "outputs": [
        {
          "output_type": "execute_result",
          "data": {
            "text/plain": [
              "98"
            ]
          },
          "metadata": {},
          "execution_count": 65
        }
      ]
    },
    {
      "cell_type": "code",
      "metadata": {
        "id": "-2ePxf-gpEIW"
      },
      "source": [
        "#smiles_length = dataset[\"SMILES\"],key =len\n",
        "#print(smiles_length)\n",
        "sol  = sol[sol['smiles_length'] < 100]"
      ],
      "execution_count": null,
      "outputs": []
    },
    {
      "cell_type": "code",
      "metadata": {
        "colab": {
          "base_uri": "https://localhost:8080/"
        },
        "id": "Mgckp7PwiOmX",
        "outputId": "b64ba464-3058-4a67-be59-8fe7c0e22959"
      },
      "source": [
        "sol.SMILES"
      ],
      "execution_count": null,
      "outputs": [
        {
          "output_type": "execute_result",
          "data": {
            "text/plain": [
              "0                                    ClCC(Cl)(Cl)Cl\n",
              "1                                      CC(Cl)(Cl)Cl\n",
              "2                                    ClC(Cl)C(Cl)Cl\n",
              "3                                        ClCC(Cl)Cl\n",
              "4                               FC(F)(Cl)C(F)(Cl)Cl\n",
              "                           ...                     \n",
              "1139                   CNC(=O)C(C)SCCSP(=O)(OC)(OC)\n",
              "1140          CC1(OC(=O)N(C1=O)c2cc(Cl)cc(Cl)c2)C=C\n",
              "1141         CC(=O)CC(c1ccccc1)c3c(O)c2ccccc2oc3=O \n",
              "1142    Cc1cccc(C)c1NC(=O)c2cc(c(Cl)cc2O)S(N)(=O)=O\n",
              "1143                         CNC(=O)Oc1cc(C)cc(C)c1\n",
              "Name: SMILES, Length: 1144, dtype: object"
            ]
          },
          "metadata": {},
          "execution_count": 43
        }
      ]
    },
    {
      "cell_type": "code",
      "metadata": {
        "colab": {
          "base_uri": "https://localhost:8080/"
        },
        "id": "yeAA-gB9itA6",
        "outputId": "287537f9-6c0d-4c91-f338-01725c4bfc4d"
      },
      "source": [
        "!pip install -q condacolab\n",
        "import condacolab\n",
        "condacolab.install()"
      ],
      "execution_count": null,
      "outputs": [
        {
          "output_type": "stream",
          "text": [
            "⏬ Downloading https://github.com/jaimergp/miniforge/releases/latest/download/Mambaforge-colab-Linux-x86_64.sh...\n",
            "📦 Installing...\n",
            "📌 Adjusting configuration...\n",
            "🩹 Patching environment...\n",
            "⏲ Done in 0:00:40\n",
            "🔁 Restarting kernel...\n"
          ],
          "name": "stdout"
        }
      ]
    },
    {
      "cell_type": "code",
      "metadata": {
        "colab": {
          "base_uri": "https://localhost:8080/"
        },
        "id": "jrHfG8sVjCpk",
        "outputId": "46462c0b-e854-4a18-d56a-8d09c97610a5"
      },
      "source": [
        "### Installing RDKIT \n",
        "\n",
        "!mamba install -c conda-forge rdkit"
      ],
      "execution_count": null,
      "outputs": [
        {
          "output_type": "stream",
          "text": [
            "\n",
            "                  __    __    __    __\n",
            "                 /  \\  /  \\  /  \\  /  \\\n",
            "                /    \\/    \\/    \\/    \\\n",
            "███████████████/  /██/  /██/  /██/  /████████████████████████\n",
            "              /  / \\   / \\   / \\   / \\  \\____\n",
            "             /  /   \\_/   \\_/   \\_/   \\    o \\__,\n",
            "            / _/                       \\_____/  `\n",
            "            |/\n",
            "        ███╗   ███╗ █████╗ ███╗   ███╗██████╗  █████╗\n",
            "        ████╗ ████║██╔══██╗████╗ ████║██╔══██╗██╔══██╗\n",
            "        ██╔████╔██║███████║██╔████╔██║██████╔╝███████║\n",
            "        ██║╚██╔╝██║██╔══██║██║╚██╔╝██║██╔══██╗██╔══██║\n",
            "        ██║ ╚═╝ ██║██║  ██║██║ ╚═╝ ██║██████╔╝██║  ██║\n",
            "        ╚═╝     ╚═╝╚═╝  ╚═╝╚═╝     ╚═╝╚═════╝ ╚═╝  ╚═╝\n",
            "\n",
            "        mamba (0.8.0) supported by @QuantStack\n",
            "\n",
            "        GitHub:  https://github.com/mamba-org/mamba\n",
            "        Twitter: https://twitter.com/QuantStack\n",
            "\n",
            "█████████████████████████████████████████████████████████████\n",
            "\n",
            "\n",
            "Looking for: ['rdkit']\n",
            "\n",
            "conda-forge/linux-64     Using cache\n",
            "conda-forge/noarch       Using cache\n",
            "pkgs/main/noarch         [] (--:--) No change\n",
            "pkgs/main/noarch         [] (00m:00s) No change\n",
            "pkgs/main/noarch         [] (00m:00s) No change\n",
            "pkgs/r/noarch            [] (--:--) No change\n",
            "pkgs/r/noarch            [] (00m:00s) No change\n",
            "pkgs/r/noarch            [] (00m:00s) No change\n",
            "pkgs/main/linux-64       [] (--:--) No change\n",
            "pkgs/main/linux-64       [] (00m:00s) No change\n",
            "pkgs/main/linux-64       [] (00m:00s) No change\n",
            "pkgs/r/linux-64          [] (--:--) No change\n",
            "pkgs/r/linux-64          [] (00m:00s) No change\n",
            "pkgs/r/linux-64          [] (00m:00s) No change\n",
            "Transaction\n",
            "\n",
            "  Prefix: /usr/local\n",
            "\n",
            "  All requested packages already installed\n",
            "\n"
          ],
          "name": "stdout"
        }
      ]
    },
    {
      "cell_type": "markdown",
      "metadata": {
        "id": "WY5vQ2A9iYrO"
      },
      "source": [
        "**Convert SMILES in t molecule **"
      ]
    },
    {
      "cell_type": "code",
      "metadata": {
        "id": "seVpgqcMiTg0"
      },
      "source": [
        "from rdkit import Chem\n",
        "from rdkit.Chem.Draw import IPythonConsole"
      ],
      "execution_count": null,
      "outputs": []
    },
    {
      "cell_type": "markdown",
      "metadata": {
        "id": "Npq384mJpLGj"
      },
      "source": [
        "Calculate molecular descriptors\n",
        "To predict LogS (log of the aqueous solubility), the study by Delaney makes use of 4 molecular descriptors:\n",
        "\n",
        "cLogP (Octanol-water partition coefficient)\n",
        "MW (Molecular weight)\n",
        "RB (Number of rotatable bonds)\n",
        "AP (Aromatic proportion = number of aromatic atoms / total number of heavy atoms)\n",
        "Unfortunately, rdkit readily computes the first 3. As for the AP descriptor, we will calculate this by manually computing the ratio of the number of aromatic atoms to the total number of heavy atoms which rdkit can compute. "
      ]
    },
    {
      "cell_type": "markdown",
      "metadata": {
        "id": "MkXr6f80pjJv"
      },
      "source": [
        "####  Calculate LogP, MW and RB"
      ]
    },
    {
      "cell_type": "code",
      "metadata": {
        "id": "w3XBVUVEpShO"
      },
      "source": [
        "import numpy as np\n",
        "from rdkit.Chem import Descriptors\n",
        "from rdkit.Chem import Lipinski\n",
        "from rdkit.Chem import Crippen"
      ],
      "execution_count": null,
      "outputs": []
    },
    {
      "cell_type": "code",
      "metadata": {
        "id": "XpyZPUi38h8j"
      },
      "source": [
        "#desc_Ringcount        =   Descriptors.desc_Ringcount(mol)\n"
      ],
      "execution_count": null,
      "outputs": []
    },
    {
      "cell_type": "code",
      "metadata": {
        "id": "gunZLVl0pQAT"
      },
      "source": [
        "### Write a function to calculate these values....\n",
        "\n",
        "def getAromaticProportion(m):\n",
        "    aromatic_list = [m.GetAtomWithIdx(i).GetIsAromatic() for i in range(m.GetNumAtoms())]\n",
        "    aromatic = 0\n",
        "    for i in aromatic_list:\n",
        "        if i:\n",
        "            aromatic += 1\n",
        "    heavy_atom = Lipinski.HeavyAtomCount(m)\n",
        "    return aromatic / heavy_atom\n",
        "\n",
        "\n",
        "def generate(smiles):\n",
        "    moldata = []\n",
        "    for elem in smiles:\n",
        "        mol = Chem.MolFromSmiles(elem)\n",
        "        moldata.append(mol)\n",
        "\n",
        "    baseData = np.arange(1, 1)\n",
        "    i = 0\n",
        "    for mol in moldata:\n",
        "\n",
        "        desc_MolLogP = Crippen.MolLogP(mol)\n",
        "        desc_MolWt = Descriptors.MolWt(mol)\n",
        "        desc_NumRotatableBonds = Lipinski.NumRotatableBonds(mol)\n",
        "        desc_AromaticProportion = getAromaticProportion(mol)\n",
        "        desc_Ringcount        =   Descriptors.RingCount(mol)\n",
        "        desc_TPSA = Descriptors.TPSA(mol)\n",
        "        desc_Hdonrs=Lipinski.NumHDonors(mol)\n",
        "        desc_SaturatedRings = Lipinski.NumSaturatedRings(mol)   \n",
        "        desc_AliphaticRings = Lipinski.NumAliphaticRings(mol) \n",
        "        desc_HAcceptors = Lipinski.NumHAcceptors(mol)\n",
        "        desc_Heteroatoms = Lipinski.NumHeteroatoms(mol)\n",
        "        #desc_molMR=Descriptors.MolMR(mol)\n",
        "        row = np.array([desc_MolLogP,\n",
        "                        desc_MolWt,\n",
        "                        desc_NumRotatableBonds,\n",
        "                        desc_AromaticProportion,desc_Ringcount,desc_TPSA,desc_Hdonrs,desc_SaturatedRings,desc_AliphaticRings,desc_HAcceptors,desc_Heteroatoms])\n",
        "\n",
        "        if i == 0:\n",
        "            baseData = row\n",
        "        else:\n",
        "            baseData = np.vstack([baseData, row])\n",
        "        i = i + 1\n",
        "\n",
        "    columnNames = [\"MolLogP\", \"MolWt\", \"NumRotatableBonds\", \"AromaticProportion\",\"Ring_Count\",\"TPSA\",\"H_donors\",\"Saturated_Rings\",\"AliphaticRings\",\"H_Acceptors\",\"Heteroatoms\"]\n",
        "    descriptors = pd.DataFrame(data=baseData, columns=columnNames)\n",
        "\n",
        "    return descriptors\n"
      ],
      "execution_count": null,
      "outputs": []
    },
    {
      "cell_type": "code",
      "metadata": {
        "colab": {
          "base_uri": "https://localhost:8080/"
        },
        "id": "ObCCEhUWocQe",
        "outputId": "d12c26b3-4048-4182-9528-d1ad694a5262"
      },
      "source": [
        "#### Get new dataframe \n",
        "df = generate(sol.SMILES)\n",
        "#print(sol.SMILES)\n",
        "print(df)\n",
        "#df.head(100)"
      ],
      "execution_count": null,
      "outputs": [
        {
          "output_type": "stream",
          "text": [
            "      MolLogP    MolWt  ...  H_Acceptors  Heteroatoms\n",
            "0     2.59540  167.850  ...          0.0          4.0\n",
            "1     2.37650  133.405  ...          0.0          3.0\n",
            "2     2.59380  167.850  ...          0.0          4.0\n",
            "3     2.02890  133.405  ...          0.0          3.0\n",
            "4     2.91890  187.375  ...          0.0          6.0\n",
            "...       ...      ...  ...          ...          ...\n",
            "1139  1.98820  287.343  ...          6.0          8.0\n",
            "1140  3.42130  286.114  ...          3.0          6.0\n",
            "1141  3.60960  308.333  ...          4.0          4.0\n",
            "1142  2.56214  354.815  ...          4.0          8.0\n",
            "1143  2.02164  179.219  ...          2.0          3.0\n",
            "\n",
            "[1144 rows x 11 columns]\n"
          ],
          "name": "stdout"
        }
      ]
    },
    {
      "cell_type": "code",
      "metadata": {
        "colab": {
          "base_uri": "https://localhost:8080/"
        },
        "id": "hP44NTwicYSN",
        "outputId": "5d8420ea-9c73-4416-d404-aeb3701d45a1"
      },
      "source": [
        "print(type(sol.SMILES[0]))"
      ],
      "execution_count": null,
      "outputs": [
        {
          "output_type": "stream",
          "text": [
            "<class 'str'>\n"
          ],
          "name": "stdout"
        }
      ]
    },
    {
      "cell_type": "markdown",
      "metadata": {
        "id": "KdLJ2gy7qdBa"
      },
      "source": [
        "3.2.2. Aromatic proportion\n",
        "\n",
        "3.2.1.1. Number of aromatic atoms\n",
        "\n",
        "Here, we will create a custom function to calculate the Number of aromatic atoms. With this descriptor we can use it to subsequently calculate the AP descriptor.\n",
        "\n",
        "Computing for a single molecule."
      ]
    },
    {
      "cell_type": "code",
      "metadata": {
        "id": "0Qp9Ej0fvilB"
      },
      "source": [
        "Y = sol.iloc[:,1]\n",
        "Y\n",
        "X=df\n"
      ],
      "execution_count": null,
      "outputs": []
    },
    {
      "cell_type": "code",
      "metadata": {
        "id": "wVbZ-EHNwNzo"
      },
      "source": [
        "####  data split ...\n",
        "\n",
        "from sklearn.model_selection import train_test_split"
      ],
      "execution_count": null,
      "outputs": []
    },
    {
      "cell_type": "code",
      "metadata": {
        "id": "8eZRlyoow_1d"
      },
      "source": [
        "X_train, X_test, y_train, y_test = train_test_split(\n",
        "...     X, Y, test_size=0.05, random_state=42)"
      ],
      "execution_count": null,
      "outputs": []
    },
    {
      "cell_type": "code",
      "metadata": {
        "colab": {
          "base_uri": "https://localhost:8080/"
        },
        "id": "o4lIaUQbv18G",
        "outputId": "1f39105f-06ce-4465-8855-faaef401a5ef"
      },
      "source": [
        "\n",
        "X_train=np.array(X_train)\n",
        "X_test=np.array(X_test)\n",
        "y_train=np.array(y_train)\n",
        "y_test=np.array(y_test)\n",
        "print(X_train.shape)\n",
        "print(X_test.shape)\n",
        "print(y_test.shape)\n",
        "print(y_train.shape)"
      ],
      "execution_count": null,
      "outputs": [
        {
          "output_type": "stream",
          "text": [
            "(1086, 11)\n",
            "(58, 11)\n",
            "(58,)\n",
            "(1086,)\n"
          ],
          "name": "stdout"
        }
      ]
    },
    {
      "cell_type": "code",
      "metadata": {
        "id": "uvsukssAx0-v"
      },
      "source": [
        "from sklearn import linear_model\n",
        "from sklearn.svm import SVR\n",
        "from sklearn.ensemble import RandomForestRegressor\n",
        "from sklearn.metrics import mean_squared_error, r2_score"
      ],
      "execution_count": null,
      "outputs": []
    },
    {
      "cell_type": "code",
      "metadata": {
        "colab": {
          "base_uri": "https://localhost:8080/"
        },
        "id": "g8kQpq9Qx2jL",
        "outputId": "3e6f2b75-2107-46c9-ad54-eaa7be73c04f"
      },
      "source": [
        "model = linear_model.LinearRegression()\n",
        "model.fit(X_train, y_train)\n",
        "\n",
        "\n"
      ],
      "execution_count": null,
      "outputs": [
        {
          "output_type": "execute_result",
          "data": {
            "text/plain": [
              "LinearRegression(copy_X=True, fit_intercept=True, n_jobs=None, normalize=False)"
            ]
          },
          "metadata": {},
          "execution_count": 22
        }
      ]
    },
    {
      "cell_type": "code",
      "metadata": {
        "colab": {
          "base_uri": "https://localhost:8080/"
        },
        "id": "Qm1QSMqV1qri",
        "outputId": "3a3f0c34-aa41-4129-e772-e11b1ceadfc2"
      },
      "source": [
        "model_svr=SVR(kernel='rbf')\n",
        "model_svr.fit(X_train, y_train)"
      ],
      "execution_count": null,
      "outputs": [
        {
          "output_type": "execute_result",
          "data": {
            "text/plain": [
              "SVR(C=1.0, cache_size=200, coef0=0.0, degree=3, epsilon=0.1, gamma='scale',\n",
              "    kernel='rbf', max_iter=-1, shrinking=True, tol=0.001, verbose=False)"
            ]
          },
          "metadata": {},
          "execution_count": 83
        }
      ]
    },
    {
      "cell_type": "code",
      "metadata": {
        "colab": {
          "base_uri": "https://localhost:8080/"
        },
        "id": "sdm0y4Dp1woA",
        "outputId": "5a2a09fb-cfd9-4561-a265-33857d0311da"
      },
      "source": [
        "model_rf = RandomForestRegressor(n_estimators = 10000, random_state = 0)\n",
        "model_rf.fit(X_train, y_train)"
      ],
      "execution_count": null,
      "outputs": [
        {
          "output_type": "execute_result",
          "data": {
            "text/plain": [
              "RandomForestRegressor(bootstrap=True, ccp_alpha=0.0, criterion='mse',\n",
              "                      max_depth=None, max_features='auto', max_leaf_nodes=None,\n",
              "                      max_samples=None, min_impurity_decrease=0.0,\n",
              "                      min_impurity_split=None, min_samples_leaf=1,\n",
              "                      min_samples_split=2, min_weight_fraction_leaf=0.0,\n",
              "                      n_estimators=10000, n_jobs=None, oob_score=False,\n",
              "                      random_state=0, verbose=0, warm_start=False)"
            ]
          },
          "metadata": {},
          "execution_count": 108
        }
      ]
    },
    {
      "cell_type": "code",
      "metadata": {
        "id": "nbzwT9jGKMUG"
      },
      "source": [
        ""
      ],
      "execution_count": null,
      "outputs": []
    },
    {
      "cell_type": "code",
      "metadata": {
        "id": "Chaow1d_7fIS"
      },
      "source": [
        "Y_pred_test_rf = model_rf.predict(X_test)"
      ],
      "execution_count": null,
      "outputs": []
    },
    {
      "cell_type": "code",
      "metadata": {
        "id": "YnUR-fj3O55o",
        "colab": {
          "base_uri": "https://localhost:8080/"
        },
        "outputId": "0a589cf3-10b8-467c-c5d6-585dfc263cb8"
      },
      "source": [
        "from xgboost import XGBRegressor\n",
        "model_xgr = XGBRegressor(n_estimators = 10000, random_state = 0)\n",
        "model_xgr.fit(X_train, y_train)"
      ],
      "execution_count": null,
      "outputs": [
        {
          "output_type": "stream",
          "text": [
            "[12:57:33] WARNING: /workspace/src/objective/regression_obj.cu:152: reg:linear is now deprecated in favor of reg:squarederror.\n"
          ],
          "name": "stdout"
        },
        {
          "output_type": "execute_result",
          "data": {
            "text/plain": [
              "XGBRegressor(base_score=0.5, booster='gbtree', colsample_bylevel=1,\n",
              "             colsample_bynode=1, colsample_bytree=1, gamma=0,\n",
              "             importance_type='gain', learning_rate=0.1, max_delta_step=0,\n",
              "             max_depth=3, min_child_weight=1, missing=None, n_estimators=10000,\n",
              "             n_jobs=1, nthread=None, objective='reg:linear', random_state=0,\n",
              "             reg_alpha=0, reg_lambda=1, scale_pos_weight=1, seed=None,\n",
              "             silent=None, subsample=1, verbosity=1)"
            ]
          },
          "metadata": {},
          "execution_count": 110
        }
      ]
    },
    {
      "cell_type": "code",
      "metadata": {
        "id": "lNzFGR8_GGUf"
      },
      "source": [
        "Y_pred_test_xgr = model_xgr.predict(X_test)"
      ],
      "execution_count": null,
      "outputs": []
    },
    {
      "cell_type": "code",
      "metadata": {
        "id": "tXE7mnWF7rFm"
      },
      "source": [
        "Y_pred_test_rf = model_rf.predict(X_test)\n",
        "#res = \"\\n\".join(\"{} {}\".format(x, y) for x, y in zip(y_test,Y_pred_test_rf ))\n",
        "#print(res)"
      ],
      "execution_count": null,
      "outputs": []
    },
    {
      "cell_type": "code",
      "metadata": {
        "colab": {
          "base_uri": "https://localhost:8080/"
        },
        "id": "PHZXRqlJ8qXy",
        "outputId": "1e6e09b3-02cf-47df-f853-69c35d4c572f"
      },
      "source": [
        "from sklearn.metrics import r2_score\n",
        "r2_score(y_test, Y_pred_test_rf)"
      ],
      "execution_count": null,
      "outputs": [
        {
          "output_type": "execute_result",
          "data": {
            "text/plain": [
              "0.9269270505484866"
            ]
          },
          "metadata": {},
          "execution_count": 111
        }
      ]
    },
    {
      "cell_type": "code",
      "metadata": {
        "id": "EBKea-1sQOdm"
      },
      "source": [
        "import pickle\n",
        "#### Save the model :::::\n",
        "filename = 'finalized_model.rf'\n",
        "pickle.dump(model_rf, open('/content/drive/MyDrive/finalized_model.rf', 'wb'))\n",
        " \n",
        "\n"
      ],
      "execution_count": null,
      "outputs": []
    },
    {
      "cell_type": "code",
      "metadata": {
        "colab": {
          "base_uri": "https://localhost:8080/"
        },
        "id": "ogonLAzwQ2I7",
        "outputId": "48e77784-4f23-4d0f-8d5e-f2c99ed5b931"
      },
      "source": [
        "# some time later...\n",
        " \n",
        "# load the model from disk\n",
        "loaded_model = pickle.load(open('/content/drive/MyDrive/finalized_model.rf', 'rb'))\n",
        "Y_pred_test_rf = loaded_model.predict(X_test)\n",
        "result = r2_score(y_test, Y_pred_test_rf)\n",
        "print(result)"
      ],
      "execution_count": null,
      "outputs": [
        {
          "output_type": "stream",
          "text": [
            "0.9269270505484866\n"
          ],
          "name": "stdout"
        }
      ]
    },
    {
      "cell_type": "code",
      "metadata": {
        "colab": {
          "base_uri": "https://localhost:8080/"
        },
        "id": "foaxiJ6JfAKq",
        "outputId": "de68807c-f960-40bc-82b1-69d77b8b8a4f"
      },
      "source": [
        "elem=input(\"Enter smiles get solubility \")\n",
        "#elem='CCc1ccccc1C'\n",
        "#moldata = []\n",
        "#for elem in smiles:\n",
        "mol = Chem.MolFromSmiles(elem)\n",
        "#moldata.append(mol)\n",
        "\n",
        "#    baseData = np.arange(1, 1)\n",
        "#    i = 0\n",
        "#    for mol in moldata:\n",
        "\n",
        "desc_MolLogP = Crippen.MolLogP(mol)\n",
        "desc_MolWt = Descriptors.MolWt(mol)\n",
        "desc_NumRotatableBonds = Lipinski.NumRotatableBonds(mol)\n",
        "desc_AromaticProportion = getAromaticProportion(mol)\n",
        "desc_Ringcount        =   Descriptors.RingCount(mol)\n",
        "desc_TPSA = Descriptors.TPSA(mol)\n",
        "desc_Hdonrs=Lipinski.NumHDonors(mol)\n",
        "desc_SaturatedRings = Lipinski.NumSaturatedRings(mol)   \n",
        "desc_AliphaticRings = Lipinski.NumAliphaticRings(mol) \n",
        "desc_HAcceptors = Lipinski.NumHAcceptors(mol)\n",
        "desc_Heteroatoms = Lipinski.NumHeteroatoms(mol)\n",
        "#desc_molMR=Descriptors.MolMR(mol)\n",
        "row = np.array([desc_MolLogP,desc_MolWt,desc_NumRotatableBonds,desc_AromaticProportion,desc_Ringcount,desc_TPSA,desc_Hdonrs,desc_SaturatedRings,desc_AliphaticRings,desc_HAcceptors,desc_Heteroatoms])\n",
        "                     #   \n",
        "                     #   \n",
        "                     #   )\n",
        "\n",
        "        #if i == 0:\n",
        "baseData = row\n",
        "        #else:\n",
        "baseData = np.vstack([row])\n",
        "#i = i + 1\n",
        "\n",
        "columnNames = [\"MolLogP\", \"MolWt\", \"NumRotatableBonds\", \"AromaticProportion\",\"Ring_Count\",\"TPSA\",\"H_donors\",\"Saturated_Rings\",\"AliphaticRings\",\"H_Acceptors\",\"Heteroatoms\"]\n",
        "descriptors = pd.DataFrame(data=baseData, columns=columnNames)\n",
        "descriptors =np.array(descriptors) \n",
        "preds=loaded_model.predict(descriptors)\n",
        "#predict_test_input = smiles_to_onehots(['elem'], charset, max_smiles_chars)\n",
        "#loaded_model1 = load_model(\"/content/drive/MyDrive/solubility_model_8858.hdf5\")\n",
        "#solubility_prediction = loaded_model.predict(predict_test_input)\n",
        "print(preds)\n",
        "#print(solubility_prediction)\n",
        "#print(type(descriptors))    \n"
      ],
      "execution_count": null,
      "outputs": [
        {
          "output_type": "stream",
          "text": [
            "Enter smiles get solubility Fc1ccc(cc1)C(=O)c2ccc(F)cc2\n",
            "[-3.48531444]\n"
          ],
          "name": "stdout"
        }
      ]
    }
  ]
}