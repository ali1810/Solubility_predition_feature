{
 "cells": [
  {
   "cell_type": "markdown",
   "metadata": {
    "colab_type": "text",
    "id": "view-in-github"
   },
   "source": [
    "<a href=\"https://colab.research.google.com/github/ali1810/Solubility_predition_feature/blob/main/Solubility_delaney_datset_rf_xg.ipynb\" target=\"_parent\"><img src=\"https://colab.research.google.com/assets/colab-badge.svg\" alt=\"Open In Colab\"/></a>"
   ]
  },
  {
   "cell_type": "code",
   "execution_count": 3,
   "metadata": {
    "id": "GTGIUu0ahoFy"
   },
   "outputs": [],
   "source": [
    "import pandas as pd"
   ]
  },
  {
   "cell_type": "code",
   "execution_count": 4,
   "metadata": {
    "colab": {
     "base_uri": "https://localhost:8080/",
     "height": 528
    },
    "id": "dM_4Ge24h4Hs",
    "outputId": "36698248-1147-43c5-de98-a9be615d1167"
   },
   "outputs": [
    {
     "data": {
      "text/html": [
       "<div>\n",
       "<style scoped>\n",
       "    .dataframe tbody tr th:only-of-type {\n",
       "        vertical-align: middle;\n",
       "    }\n",
       "\n",
       "    .dataframe tbody tr th {\n",
       "        vertical-align: top;\n",
       "    }\n",
       "\n",
       "    .dataframe thead th {\n",
       "        text-align: right;\n",
       "    }\n",
       "</style>\n",
       "<table border=\"1\" class=\"dataframe\">\n",
       "  <thead>\n",
       "    <tr style=\"text-align: right;\">\n",
       "      <th></th>\n",
       "      <th>Compound ID</th>\n",
       "      <th>measured log(solubility:mol/L)</th>\n",
       "      <th>ESOL predicted log(solubility:mol/L)</th>\n",
       "      <th>SMILES</th>\n",
       "    </tr>\n",
       "  </thead>\n",
       "  <tbody>\n",
       "    <tr>\n",
       "      <th>0</th>\n",
       "      <td>1,1,1,2-Tetrachloroethane</td>\n",
       "      <td>-2.180</td>\n",
       "      <td>-2.794</td>\n",
       "      <td>ClCC(Cl)(Cl)Cl</td>\n",
       "    </tr>\n",
       "    <tr>\n",
       "      <th>1</th>\n",
       "      <td>1,1,1-Trichloroethane</td>\n",
       "      <td>-2.000</td>\n",
       "      <td>-2.232</td>\n",
       "      <td>CC(Cl)(Cl)Cl</td>\n",
       "    </tr>\n",
       "    <tr>\n",
       "      <th>2</th>\n",
       "      <td>1,1,2,2-Tetrachloroethane</td>\n",
       "      <td>-1.740</td>\n",
       "      <td>-2.549</td>\n",
       "      <td>ClC(Cl)C(Cl)Cl</td>\n",
       "    </tr>\n",
       "    <tr>\n",
       "      <th>3</th>\n",
       "      <td>1,1,2-Trichloroethane</td>\n",
       "      <td>-1.480</td>\n",
       "      <td>-1.961</td>\n",
       "      <td>ClCC(Cl)Cl</td>\n",
       "    </tr>\n",
       "    <tr>\n",
       "      <th>4</th>\n",
       "      <td>1,1,2-Trichlorotrifluoroethane</td>\n",
       "      <td>-3.040</td>\n",
       "      <td>-3.077</td>\n",
       "      <td>FC(F)(Cl)C(F)(Cl)Cl</td>\n",
       "    </tr>\n",
       "    <tr>\n",
       "      <th>...</th>\n",
       "      <td>...</td>\n",
       "      <td>...</td>\n",
       "      <td>...</td>\n",
       "      <td>...</td>\n",
       "    </tr>\n",
       "    <tr>\n",
       "      <th>1139</th>\n",
       "      <td>vamidothion</td>\n",
       "      <td>1.144</td>\n",
       "      <td>-1.446</td>\n",
       "      <td>CNC(=O)C(C)SCCSP(=O)(OC)(OC)</td>\n",
       "    </tr>\n",
       "    <tr>\n",
       "      <th>1140</th>\n",
       "      <td>Vinclozolin</td>\n",
       "      <td>-4.925</td>\n",
       "      <td>-4.377</td>\n",
       "      <td>CC1(OC(=O)N(C1=O)c2cc(Cl)cc(Cl)c2)C=C</td>\n",
       "    </tr>\n",
       "    <tr>\n",
       "      <th>1141</th>\n",
       "      <td>Warfarin</td>\n",
       "      <td>-3.893</td>\n",
       "      <td>-3.913</td>\n",
       "      <td>CC(=O)CC(c1ccccc1)c3c(O)c2ccccc2oc3=O</td>\n",
       "    </tr>\n",
       "    <tr>\n",
       "      <th>1142</th>\n",
       "      <td>Xipamide</td>\n",
       "      <td>-3.790</td>\n",
       "      <td>-3.642</td>\n",
       "      <td>Cc1cccc(C)c1NC(=O)c2cc(c(Cl)cc2O)S(N)(=O)=O</td>\n",
       "    </tr>\n",
       "    <tr>\n",
       "      <th>1143</th>\n",
       "      <td>XMC</td>\n",
       "      <td>-2.581</td>\n",
       "      <td>-2.688</td>\n",
       "      <td>CNC(=O)Oc1cc(C)cc(C)c1</td>\n",
       "    </tr>\n",
       "  </tbody>\n",
       "</table>\n",
       "<p>1144 rows × 4 columns</p>\n",
       "</div>"
      ],
      "text/plain": [
       "                         Compound ID  measured log(solubility:mol/L)  \\\n",
       "0          1,1,1,2-Tetrachloroethane                          -2.180   \n",
       "1              1,1,1-Trichloroethane                          -2.000   \n",
       "2          1,1,2,2-Tetrachloroethane                          -1.740   \n",
       "3              1,1,2-Trichloroethane                          -1.480   \n",
       "4     1,1,2-Trichlorotrifluoroethane                          -3.040   \n",
       "...                              ...                             ...   \n",
       "1139                     vamidothion                           1.144   \n",
       "1140                     Vinclozolin                          -4.925   \n",
       "1141                        Warfarin                          -3.893   \n",
       "1142                        Xipamide                          -3.790   \n",
       "1143                             XMC                          -2.581   \n",
       "\n",
       "      ESOL predicted log(solubility:mol/L)  \\\n",
       "0                                   -2.794   \n",
       "1                                   -2.232   \n",
       "2                                   -2.549   \n",
       "3                                   -1.961   \n",
       "4                                   -3.077   \n",
       "...                                    ...   \n",
       "1139                                -1.446   \n",
       "1140                                -4.377   \n",
       "1141                                -3.913   \n",
       "1142                                -3.642   \n",
       "1143                                -2.688   \n",
       "\n",
       "                                           SMILES  \n",
       "0                                  ClCC(Cl)(Cl)Cl  \n",
       "1                                    CC(Cl)(Cl)Cl  \n",
       "2                                  ClC(Cl)C(Cl)Cl  \n",
       "3                                      ClCC(Cl)Cl  \n",
       "4                             FC(F)(Cl)C(F)(Cl)Cl  \n",
       "...                                           ...  \n",
       "1139                 CNC(=O)C(C)SCCSP(=O)(OC)(OC)  \n",
       "1140        CC1(OC(=O)N(C1=O)c2cc(Cl)cc(Cl)c2)C=C  \n",
       "1141       CC(=O)CC(c1ccccc1)c3c(O)c2ccccc2oc3=O   \n",
       "1142  Cc1cccc(C)c1NC(=O)c2cc(c(Cl)cc2O)S(N)(=O)=O  \n",
       "1143                       CNC(=O)Oc1cc(C)cc(C)c1  \n",
       "\n",
       "[1144 rows x 4 columns]"
      ]
     },
     "execution_count": 4,
     "metadata": {},
     "output_type": "execute_result"
    }
   ],
   "source": [
    "sol = pd.read_csv('Dataset/delaney.csv')\n",
    "sol"
   ]
  },
  {
   "cell_type": "code",
   "execution_count": 5,
   "metadata": {
    "id": "uG8ezFrmoqjo"
   },
   "outputs": [],
   "source": [
    "sol[\"smiles_length\"]= sol[\"SMILES\"].apply(len)"
   ]
  },
  {
   "cell_type": "code",
   "execution_count": 6,
   "metadata": {
    "colab": {
     "base_uri": "https://localhost:8080/"
    },
    "id": "dINrET04oqsY",
    "outputId": "45526d9e-adc1-4d0e-f99f-d4387d4a7a7e"
   },
   "outputs": [
    {
     "data": {
      "text/plain": [
       "98"
      ]
     },
     "execution_count": 6,
     "metadata": {},
     "output_type": "execute_result"
    }
   ],
   "source": [
    "max_lenghth=max(sol[\"smiles_length\"])\n",
    "max_lenghth"
   ]
  },
  {
   "cell_type": "code",
   "execution_count": 7,
   "metadata": {
    "id": "-2ePxf-gpEIW"
   },
   "outputs": [],
   "source": [
    "#smiles_length = dataset[\"SMILES\"],key =len\n",
    "#print(smiles_length)\n",
    "#sol  = sol[sol['smiles_length'] < 100]"
   ]
  },
  {
   "cell_type": "code",
   "execution_count": 8,
   "metadata": {
    "colab": {
     "base_uri": "https://localhost:8080/"
    },
    "id": "Mgckp7PwiOmX",
    "outputId": "e94289b6-22ad-4036-d69f-67b84d6a7ccc"
   },
   "outputs": [
    {
     "data": {
      "text/plain": [
       "0                                    ClCC(Cl)(Cl)Cl\n",
       "1                                      CC(Cl)(Cl)Cl\n",
       "2                                    ClC(Cl)C(Cl)Cl\n",
       "3                                        ClCC(Cl)Cl\n",
       "4                               FC(F)(Cl)C(F)(Cl)Cl\n",
       "                           ...                     \n",
       "1139                   CNC(=O)C(C)SCCSP(=O)(OC)(OC)\n",
       "1140          CC1(OC(=O)N(C1=O)c2cc(Cl)cc(Cl)c2)C=C\n",
       "1141         CC(=O)CC(c1ccccc1)c3c(O)c2ccccc2oc3=O \n",
       "1142    Cc1cccc(C)c1NC(=O)c2cc(c(Cl)cc2O)S(N)(=O)=O\n",
       "1143                         CNC(=O)Oc1cc(C)cc(C)c1\n",
       "Name: SMILES, Length: 1144, dtype: object"
      ]
     },
     "execution_count": 8,
     "metadata": {},
     "output_type": "execute_result"
    }
   ],
   "source": [
    "sol.SMILES"
   ]
  },
  {
   "cell_type": "code",
   "execution_count": 9,
   "metadata": {
    "colab": {
     "base_uri": "https://localhost:8080/"
    },
    "id": "yeAA-gB9itA6",
    "outputId": "8f0f8924-9b80-4b81-dcf4-0e1d6d2c987b"
   },
   "outputs": [
    {
     "name": "stdout",
     "output_type": "stream",
     "text": [
      "\u001b[33mWARNING: You are using pip version 20.3.3; however, version 21.2.4 is available.\r\n",
      "You should consider upgrading via the '/home/pascal/anaconda3/bin/python -m pip install --upgrade pip' command.\u001b[0m\r\n"
     ]
    },
    {
     "ename": "RuntimeError",
     "evalue": "This module must ONLY run as part of a Colab notebook!",
     "output_type": "error",
     "traceback": [
      "\u001b[0;31m---------------------------------------------------------------------------\u001b[0m",
      "\u001b[0;31mModuleNotFoundError\u001b[0m                       Traceback (most recent call last)",
      "\u001b[0;32m~/anaconda3/lib/python3.6/site-packages/condacolab.py\u001b[0m in \u001b[0;36m<module>\u001b[0;34m\u001b[0m\n\u001b[1;32m     25\u001b[0m \u001b[0;32mtry\u001b[0m\u001b[0;34m:\u001b[0m\u001b[0;34m\u001b[0m\u001b[0;34m\u001b[0m\u001b[0m\n\u001b[0;32m---> 26\u001b[0;31m     \u001b[0;32mimport\u001b[0m \u001b[0mgoogle\u001b[0m\u001b[0;34m.\u001b[0m\u001b[0mcolab\u001b[0m\u001b[0;34m\u001b[0m\u001b[0;34m\u001b[0m\u001b[0m\n\u001b[0m\u001b[1;32m     27\u001b[0m \u001b[0;32mexcept\u001b[0m \u001b[0mImportError\u001b[0m\u001b[0;34m:\u001b[0m\u001b[0;34m\u001b[0m\u001b[0;34m\u001b[0m\u001b[0m\n",
      "\u001b[0;31mModuleNotFoundError\u001b[0m: No module named 'google.colab'",
      "\nDuring handling of the above exception, another exception occurred:\n",
      "\u001b[0;31mRuntimeError\u001b[0m                              Traceback (most recent call last)",
      "\u001b[0;32m<ipython-input-9-dfa229587fce>\u001b[0m in \u001b[0;36m<module>\u001b[0;34m\u001b[0m\n\u001b[1;32m      1\u001b[0m \u001b[0mget_ipython\u001b[0m\u001b[0;34m(\u001b[0m\u001b[0;34m)\u001b[0m\u001b[0;34m.\u001b[0m\u001b[0msystem\u001b[0m\u001b[0;34m(\u001b[0m\u001b[0;34m'pip install -q condacolab'\u001b[0m\u001b[0;34m)\u001b[0m\u001b[0;34m\u001b[0m\u001b[0;34m\u001b[0m\u001b[0m\n\u001b[0;32m----> 2\u001b[0;31m \u001b[0;32mimport\u001b[0m \u001b[0mcondacolab\u001b[0m\u001b[0;34m\u001b[0m\u001b[0;34m\u001b[0m\u001b[0m\n\u001b[0m\u001b[1;32m      3\u001b[0m \u001b[0mcondacolab\u001b[0m\u001b[0;34m.\u001b[0m\u001b[0minstall\u001b[0m\u001b[0;34m(\u001b[0m\u001b[0;34m)\u001b[0m\u001b[0;34m\u001b[0m\u001b[0;34m\u001b[0m\u001b[0m\n",
      "\u001b[0;32m~/anaconda3/lib/python3.6/site-packages/condacolab.py\u001b[0m in \u001b[0;36m<module>\u001b[0;34m\u001b[0m\n\u001b[1;32m     26\u001b[0m     \u001b[0;32mimport\u001b[0m \u001b[0mgoogle\u001b[0m\u001b[0;34m.\u001b[0m\u001b[0mcolab\u001b[0m\u001b[0;34m\u001b[0m\u001b[0;34m\u001b[0m\u001b[0m\n\u001b[1;32m     27\u001b[0m \u001b[0;32mexcept\u001b[0m \u001b[0mImportError\u001b[0m\u001b[0;34m:\u001b[0m\u001b[0;34m\u001b[0m\u001b[0;34m\u001b[0m\u001b[0m\n\u001b[0;32m---> 28\u001b[0;31m     \u001b[0;32mraise\u001b[0m \u001b[0mRuntimeError\u001b[0m\u001b[0;34m(\u001b[0m\u001b[0;34m\"This module must ONLY run as part of a Colab notebook!\"\u001b[0m\u001b[0;34m)\u001b[0m\u001b[0;34m\u001b[0m\u001b[0;34m\u001b[0m\u001b[0m\n\u001b[0m\u001b[1;32m     29\u001b[0m \u001b[0;34m\u001b[0m\u001b[0m\n\u001b[1;32m     30\u001b[0m \u001b[0;34m\u001b[0m\u001b[0m\n",
      "\u001b[0;31mRuntimeError\u001b[0m: This module must ONLY run as part of a Colab notebook!"
     ]
    }
   ],
   "source": [
    "!pip install -q condacolab\n",
    "import condacolab\n",
    "condacolab.install()"
   ]
  },
  {
   "cell_type": "code",
   "execution_count": 10,
   "metadata": {
    "colab": {
     "base_uri": "https://localhost:8080/"
    },
    "id": "jrHfG8sVjCpk",
    "outputId": "379266c0-8f1d-4d96-8ed8-5edaacedae0b"
   },
   "outputs": [
    {
     "name": "stdout",
     "output_type": "stream",
     "text": [
      "/bin/bash: mamba: command not found\r\n"
     ]
    }
   ],
   "source": [
    "### Installing RDKIT \n",
    "\n",
    "!mamba install -c conda-forge rdkit"
   ]
  },
  {
   "cell_type": "markdown",
   "metadata": {
    "id": "WY5vQ2A9iYrO"
   },
   "source": [
    "**Convert SMILES in t molecule **"
   ]
  },
  {
   "cell_type": "code",
   "execution_count": 11,
   "metadata": {
    "id": "seVpgqcMiTg0"
   },
   "outputs": [],
   "source": [
    "from rdkit import Chem\n",
    "from rdkit.Chem.Draw import IPythonConsole"
   ]
  },
  {
   "cell_type": "markdown",
   "metadata": {
    "id": "Npq384mJpLGj"
   },
   "source": [
    "Calculate molecular descriptors\n",
    "To predict LogS (log of the aqueous solubility), the study by Delaney makes use of 4 molecular descriptors:\n",
    "\n",
    "cLogP (Octanol-water partition coefficient)\n",
    "MW (Molecular weight)\n",
    "RB (Number of rotatable bonds)\n",
    "AP (Aromatic proportion = number of aromatic atoms / total number of heavy atoms)\n",
    "Unfortunately, rdkit readily computes the first 3. As for the AP descriptor, we will calculate this by manually computing the ratio of the number of aromatic atoms to the total number of heavy atoms which rdkit can compute. "
   ]
  },
  {
   "cell_type": "markdown",
   "metadata": {
    "id": "MkXr6f80pjJv"
   },
   "source": [
    "####  Calculate LogP, MW and RB"
   ]
  },
  {
   "cell_type": "code",
   "execution_count": 12,
   "metadata": {
    "id": "w3XBVUVEpShO"
   },
   "outputs": [],
   "source": [
    "import numpy as np\n",
    "from rdkit.Chem import Descriptors\n",
    "from rdkit.Chem import Lipinski\n",
    "from rdkit.Chem import Crippen"
   ]
  },
  {
   "cell_type": "code",
   "execution_count": 13,
   "metadata": {
    "id": "XpyZPUi38h8j"
   },
   "outputs": [],
   "source": [
    "#desc_Ringcount        =   Descriptors.desc_Ringcount(mol)\n"
   ]
  },
  {
   "cell_type": "code",
   "execution_count": 32,
   "metadata": {
    "id": "gunZLVl0pQAT"
   },
   "outputs": [],
   "source": [
    "### Write a function to calculate these values....\n",
    "\n",
    "def getAromaticProportion(m):\n",
    "    aromatic_list = [m.GetAtomWithIdx(i).GetIsAromatic() for i in range(m.GetNumAtoms())]\n",
    "    aromatic = 0\n",
    "    for i in aromatic_list:\n",
    "        if i:\n",
    "            aromatic += 1\n",
    "    heavy_atom = Lipinski.HeavyAtomCount(m)\n",
    "    return aromatic / heavy_atom\n",
    "\n",
    "columnNames = [\"MolLogP\", \"MolWt\", \"NumRotatableBonds\", \"AromaticProportion\",\"Ring_Count\",\"TPSA\",\"H_donors\",\"Saturated_Rings\",\"AliphaticRings\",\"H_Acceptors\",\"Heteroatoms\"]\n",
    "\n",
    "def generate(smiles):\n",
    "    moldata = []\n",
    "    for elem in smiles:\n",
    "        mol = Chem.MolFromSmiles(elem)\n",
    "        moldata.append(mol)\n",
    "\n",
    "    baseData = np.arange(1, 1)\n",
    "    i = 0\n",
    "    for mol in moldata:\n",
    "\n",
    "        desc_MolLogP = Crippen.MolLogP(mol)\n",
    "        desc_MolWt = Descriptors.MolWt(mol)\n",
    "        desc_NumRotatableBonds = Lipinski.NumRotatableBonds(mol)\n",
    "        desc_AromaticProportion = getAromaticProportion(mol)\n",
    "        desc_Ringcount        =   Descriptors.RingCount(mol)\n",
    "        desc_TPSA = Descriptors.TPSA(mol)\n",
    "        desc_Hdonrs=Lipinski.NumHDonors(mol)\n",
    "        desc_SaturatedRings = Lipinski.NumSaturatedRings(mol)   \n",
    "        desc_AliphaticRings = Lipinski.NumAliphaticRings(mol) \n",
    "        desc_HAcceptors = Lipinski.NumHAcceptors(mol)\n",
    "        desc_Heteroatoms = Lipinski.NumHeteroatoms(mol)\n",
    "        #desc_molMR=Descriptors.MolMR(mol)\n",
    "        row = np.array([desc_MolLogP,\n",
    "                        desc_MolWt,\n",
    "                        desc_NumRotatableBonds,\n",
    "                        desc_AromaticProportion,desc_Ringcount,desc_TPSA,desc_Hdonrs,desc_SaturatedRings,desc_AliphaticRings,desc_HAcceptors,desc_Heteroatoms])\n",
    "\n",
    "        if i == 0:\n",
    "            baseData = row\n",
    "        else:\n",
    "            baseData = np.vstack([baseData, row])\n",
    "        i = i + 1\n",
    "\n",
    "    descriptors = pd.DataFrame(data=baseData, columns=columnNames)\n",
    "\n",
    "    return descriptors\n"
   ]
  },
  {
   "cell_type": "code",
   "execution_count": 33,
   "metadata": {
    "colab": {
     "base_uri": "https://localhost:8080/"
    },
    "id": "ObCCEhUWocQe",
    "outputId": "5d68f4e6-6491-48ad-8167-82853e1ceb7c"
   },
   "outputs": [
    {
     "name": "stdout",
     "output_type": "stream",
     "text": [
      "      MolLogP    MolWt  NumRotatableBonds  AromaticProportion  Ring_Count  \\\n",
      "0     2.59540  167.850                0.0            0.000000         0.0   \n",
      "1     2.37650  133.405                0.0            0.000000         0.0   \n",
      "2     2.59380  167.850                1.0            0.000000         0.0   \n",
      "3     2.02890  133.405                1.0            0.000000         0.0   \n",
      "4     2.91890  187.375                1.0            0.000000         0.0   \n",
      "...       ...      ...                ...                 ...         ...   \n",
      "1139  1.98820  287.343                8.0            0.000000         0.0   \n",
      "1140  3.42130  286.114                2.0            0.333333         2.0   \n",
      "1141  3.60960  308.333                4.0            0.695652         3.0   \n",
      "1142  2.56214  354.815                3.0            0.521739         2.0   \n",
      "1143  2.02164  179.219                1.0            0.461538         1.0   \n",
      "\n",
      "        TPSA  H_donors  Saturated_Rings  AliphaticRings  H_Acceptors  \\\n",
      "0       0.00       0.0              0.0             0.0          0.0   \n",
      "1       0.00       0.0              0.0             0.0          0.0   \n",
      "2       0.00       0.0              0.0             0.0          0.0   \n",
      "3       0.00       0.0              0.0             0.0          0.0   \n",
      "4       0.00       0.0              0.0             0.0          0.0   \n",
      "...      ...       ...              ...             ...          ...   \n",
      "1139   64.63       1.0              0.0             0.0          6.0   \n",
      "1140   46.61       0.0              1.0             1.0          3.0   \n",
      "1141   67.51       1.0              0.0             0.0          4.0   \n",
      "1142  109.49       3.0              0.0             0.0          4.0   \n",
      "1143   38.33       1.0              0.0             0.0          2.0   \n",
      "\n",
      "      Heteroatoms  \n",
      "0             4.0  \n",
      "1             3.0  \n",
      "2             4.0  \n",
      "3             3.0  \n",
      "4             6.0  \n",
      "...           ...  \n",
      "1139          8.0  \n",
      "1140          6.0  \n",
      "1141          4.0  \n",
      "1142          8.0  \n",
      "1143          3.0  \n",
      "\n",
      "[1144 rows x 11 columns]\n"
     ]
    }
   ],
   "source": [
    "#### Get new dataframe \n",
    "df = generate(sol.SMILES)\n",
    "#print(sol.SMILES)\n",
    "print(df)\n",
    "#df.head(100)"
   ]
  },
  {
   "cell_type": "code",
   "execution_count": 34,
   "metadata": {
    "id": "hP44NTwicYSN"
   },
   "outputs": [
    {
     "name": "stdout",
     "output_type": "stream",
     "text": [
      "<class 'str'>\n"
     ]
    }
   ],
   "source": [
    "print(type(sol.SMILES[0]))"
   ]
  },
  {
   "cell_type": "markdown",
   "metadata": {
    "id": "KdLJ2gy7qdBa"
   },
   "source": [
    "3.2.2. Aromatic proportion\n",
    "\n",
    "3.2.1.1. Number of aromatic atoms\n",
    "\n",
    "Here, we will create a custom function to calculate the Number of aromatic atoms. With this descriptor we can use it to subsequently calculate the AP descriptor.\n",
    "\n",
    "Computing for a single molecule."
   ]
  },
  {
   "cell_type": "code",
   "execution_count": 35,
   "metadata": {
    "id": "0Qp9Ej0fvilB"
   },
   "outputs": [],
   "source": [
    "Y = sol.iloc[:,1]\n",
    "Y\n",
    "X=df\n",
    "import matplotlib.pyplot as plt\n"
   ]
  },
  {
   "cell_type": "code",
   "execution_count": 36,
   "metadata": {},
   "outputs": [
    {
     "name": "stdout",
     "output_type": "stream",
     "text": [
      "(1144,)\n",
      "(1144, 11)\n"
     ]
    }
   ],
   "source": [
    "print(Y.shape)\n",
    "print(X.shape)"
   ]
  },
  {
   "cell_type": "code",
   "execution_count": 37,
   "metadata": {},
   "outputs": [
    {
     "data": {
      "image/png": "[encoded data removed]",
      "text/plain": [
       "<Figure size 432x288 with 1 Axes>"
      ]
     },
     "metadata": {
      "needs_background": "light"
     },
     "output_type": "display_data"
    },
    {
     "data": {
      "image/png": "[encoded data removed]",
      "text/plain": [
       "<Figure size 432x288 with 1 Axes>"
      ]
     },
     "metadata": {
      "needs_background": "light"
     },
     "output_type": "display_data"
    },
    {
     "data": {
      "image/png": "[encoded data removed]",
      "text/plain": [
       "<Figure size 432x288 with 1 Axes>"
      ]
     },
     "metadata": {
      "needs_background": "light"
     },
     "output_type": "display_data"
    },
    {
     "data": {
      "image/png": "[encoded data removed]",
      "text/plain": [
       "<Figure size 432x288 with 1 Axes>"
      ]
     },
     "metadata": {
      "needs_background": "light"
     },
     "output_type": "display_data"
    },
    {
     "data": {
      "image/png": "[encoded data removed]",
      "text/plain": [
       "<Figure size 432x288 with 1 Axes>"
      ]
     },
     "metadata": {
      "needs_background": "light"
     },
     "output_type": "display_data"
    },
    {
     "data": {
      "image/png": "[encoded data removed]",
      "text/plain": [
       "<Figure size 432x288 with 1 Axes>"
      ]
     },
     "metadata": {
      "needs_background": "light"
     },
     "output_type": "display_data"
    },
    {
     "data": {
      "image/png": "[encoded data removed]",
      "text/plain": [
       "<Figure size 432x288 with 1 Axes>"
      ]
     },
     "metadata": {
      "needs_background": "light"
     },
     "output_type": "display_data"
    },
    {
     "data": {
      "image/png": "[encoded data removed]",
      "text/plain": [
       "<Figure size 432x288 with 1 Axes>"
      ]
     },
     "metadata": {
      "needs_background": "light"
     },
     "output_type": "display_data"
    },
    {
     "data": {
      "image/png": "[encoded data removed]",
      "text/plain": [
       "<Figure size 432x288 with 1 Axes>"
      ]
     },
     "metadata": {
      "needs_background": "light"
     },
     "output_type": "display_data"
    },
    {
     "data": {
      "image/png": "[encoded data removed]",
      "text/plain": [
       "<Figure size 432x288 with 1 Axes>"
      ]
     },
     "metadata": {
      "needs_background": "light"
     },
     "output_type": "display_data"
    },
    {
     "data": {
      "image/png": "[encoded data removed]",
      "text/plain": [
       "<Figure size 432x288 with 1 Axes>"
      ]
     },
     "metadata": {
      "needs_background": "light"
     },
     "output_type": "display_data"
    }
   ],
   "source": [
    "X_np = np.array(X)\n",
    "y_np = np.array(Y)\n",
    "for i in range(11):\n",
    "    plt.figure()\n",
    "    plt.scatter(X_np[:,i], y_np)\n",
    "    plt.xlabel(columnNames[i])\n",
    "    plt.ylabel(\"solubility\")\n",
    "    plt.show()"
   ]
  },
  {
   "cell_type": "code",
   "execution_count": 18,
   "metadata": {
    "id": "wVbZ-EHNwNzo"
   },
   "outputs": [],
   "source": [
    "####  data split ...\n",
    "\n",
    "from sklearn.model_selection import train_test_split"
   ]
  },
  {
   "cell_type": "code",
   "execution_count": 19,
   "metadata": {
    "id": "8eZRlyoow_1d"
   },
   "outputs": [],
   "source": [
    "X_train, X_test, y_train, y_test = train_test_split(\n",
    "...     X, Y, test_size=0.05, random_state=42)"
   ]
  },
  {
   "cell_type": "code",
   "execution_count": 73,
   "metadata": {
    "colab": {
     "base_uri": "https://localhost:8080/"
    },
    "id": "o4lIaUQbv18G",
    "outputId": "c5ba75fb-42ea-4c35-91f9-3d0a9e20bfee"
   },
   "outputs": [
    {
     "name": "stdout",
     "output_type": "stream",
     "text": [
      "(1086, 11)\n",
      "(58, 11)\n",
      "(58,)\n",
      "(1086,)\n"
     ]
    }
   ],
   "source": [
    "order = [ 0,  1,  5, 10,  4,  2,  3,  9,  6,  8,  7]\n",
    "num_features = 3\n",
    "X_train=np.array(X_train)\n",
    "X_test=np.array(X_test)\n",
    "y_train=np.array(y_train)\n",
    "y_test=np.array(y_test)\n",
    "print(X_train.shape)\n",
    "print(X_test.shape)\n",
    "print(y_test.shape)\n",
    "print(y_train.shape)"
   ]
  },
  {
   "cell_type": "code",
   "execution_count": 74,
   "metadata": {
    "id": "uvsukssAx0-v"
   },
   "outputs": [],
   "source": [
    "from sklearn import linear_model\n",
    "from sklearn.svm import SVR\n",
    "from sklearn.ensemble import RandomForestRegressor\n",
    "from sklearn.metrics import mean_squared_error, r2_score\n",
    "from sklearn.metrics import r2_score\n"
   ]
  },
  {
   "cell_type": "code",
   "execution_count": 79,
   "metadata": {
    "colab": {
     "base_uri": "https://localhost:8080/"
    },
    "id": "g8kQpq9Qx2jL",
    "outputId": "9f158954-badc-4848-d20d-91b39e18a3e8"
   },
   "outputs": [
    {
     "name": "stdout",
     "output_type": "stream",
     "text": [
      "   ###   1 features\n",
      "   ---   Train r2: 0.682875\n",
      "   ---   Test r2:  0.736975\n",
      "   ###   2 features\n",
      "   ---   Train r2: 0.763794\n",
      "   ---   Test r2:  0.795963\n",
      "   ###   3 features\n",
      "   ---   Train r2: 0.767355\n",
      "   ---   Test r2:  0.793814\n",
      "   ###   4 features\n",
      "   ---   Train r2: 0.769942\n",
      "   ---   Test r2:  0.795945\n",
      "   ###   5 features\n",
      "   ---   Train r2: 0.778394\n",
      "   ---   Test r2:  0.783359\n",
      "   ###   6 features\n",
      "   ---   Train r2: 0.778731\n",
      "   ---   Test r2:  0.783858\n",
      "   ###   7 features\n",
      "   ---   Train r2: 0.779368\n",
      "   ---   Test r2:  0.776053\n",
      "   ###   8 features\n",
      "   ---   Train r2: 0.787952\n",
      "   ---   Test r2:  0.789472\n",
      "   ###   9 features\n",
      "   ---   Train r2: 0.789345\n",
      "   ---   Test r2:  0.790315\n",
      "   ###   10 features\n",
      "   ---   Train r2: 0.795997\n",
      "   ---   Test r2:  0.791268\n",
      "   ###   11 features\n",
      "   ---   Train r2: 0.796119\n",
      "   ---   Test r2:  0.791414\n"
     ]
    }
   ],
   "source": [
    "for num_features in range(1,12):\n",
    "    model_lr = linear_model.LinearRegression()\n",
    "    model_lr.fit(X_train[:,order[:num_features]], y_train)\n",
    "    r2_train = r2_score(y_train, model_lr.predict(X_train[:,order[:num_features]]))\n",
    "    r2_test = r2_score(y_test, model_lr.predict(X_test[:,order[:num_features]]))\n",
    "    print(\"   ###   %i features\"%(num_features))\n",
    "    print(\"   ---   Train r2: %f\"%(r2_train))\n",
    "    print(\"   ---   Test r2:  %f\"%(r2_test))\n",
    "\n"
   ]
  },
  {
   "cell_type": "code",
   "execution_count": 76,
   "metadata": {},
   "outputs": [
    {
     "name": "stdout",
     "output_type": "stream",
     "text": [
      "Train r2: 0.767355\n",
      "Test r2:  0.793814\n"
     ]
    }
   ],
   "source": [
    "\n"
   ]
  },
  {
   "cell_type": "code",
   "execution_count": 46,
   "metadata": {
    "colab": {
     "base_uri": "https://localhost:8080/"
    },
    "id": "Qm1QSMqV1qri",
    "outputId": "9e99df1e-6009-48b0-dd48-15e10fa32df7"
   },
   "outputs": [
    {
     "data": {
      "text/plain": [
       "SVR()"
      ]
     },
     "execution_count": 46,
     "metadata": {},
     "output_type": "execute_result"
    }
   ],
   "source": [
    "model_svr=SVR(kernel='rbf')\n",
    "model_svr.fit(X_train, y_train)"
   ]
  },
  {
   "cell_type": "code",
   "execution_count": 47,
   "metadata": {},
   "outputs": [
    {
     "name": "stdout",
     "output_type": "stream",
     "text": [
      "Train r2: 0.690514\n",
      "Test r2:  0.733970\n"
     ]
    }
   ],
   "source": [
    "r2_train = r2_score(y_train, model_svr.predict(X_train))\n",
    "r2_test = r2_score(y_test, model_svr.predict(X_test))\n",
    "print(\"Train r2: %f\"%(r2_train))\n",
    "print(\"Test r2:  %f\"%(r2_test))"
   ]
  },
  {
   "cell_type": "code",
   "execution_count": 81,
   "metadata": {
    "colab": {
     "base_uri": "https://localhost:8080/"
    },
    "id": "sdm0y4Dp1woA",
    "outputId": "0e98cb7f-7c86-442b-9410-723ca35675a9"
   },
   "outputs": [
    {
     "name": "stdout",
     "output_type": "stream",
     "text": [
      "   ###   1 features\n",
      "   ---   Train r2: 0.956532\n",
      "   ---   Test r2:  0.784857\n",
      "[0]\n",
      "   ###   2 features\n",
      "   ---   Train r2: 0.976765\n",
      "   ---   Test r2:  0.895664\n",
      "[0 1]\n",
      "   ###   3 features\n",
      "   ---   Train r2: 0.978959\n",
      "   ---   Test r2:  0.898377\n",
      "[0 1 2]\n",
      "   ###   4 features\n",
      "   ---   Train r2: 0.980498\n",
      "   ---   Test r2:  0.909575\n",
      "[0 1 2 3]\n",
      "   ###   5 features\n",
      "   ---   Train r2: 0.980923\n",
      "   ---   Test r2:  0.912910\n",
      "[0 1 2 3 4]\n",
      "   ###   6 features\n",
      "   ---   Train r2: 0.981046\n",
      "   ---   Test r2:  0.919792\n",
      "[0 1 2 3 4 5]\n",
      "   ###   7 features\n",
      "   ---   Train r2: 0.981322\n",
      "   ---   Test r2:  0.924560\n",
      "[0 1 2 3 4 6 5]\n",
      "   ###   8 features\n",
      "   ---   Train r2: 0.981406\n",
      "   ---   Test r2:  0.925934\n",
      "[0 1 2 3 4 5 6 7]\n",
      "   ###   9 features\n",
      "   ---   Train r2: 0.981283\n",
      "   ---   Test r2:  0.928723\n",
      "[0 1 2 3 4 6 5 7 8]\n",
      "   ###   10 features\n",
      "   ---   Train r2: 0.981380\n",
      "   ---   Test r2:  0.929416\n",
      "[0 1 2 3 4 5 6 7 8 9]\n",
      "   ###   11 features\n",
      "   ---   Train r2: 0.981399\n",
      "   ---   Test r2:  0.929663\n",
      "[ 0  1  2  3  4  5  6  7  8  9 10]\n"
     ]
    }
   ],
   "source": [
    "for num_features in range(1,12):\n",
    "    model_rf = RandomForestRegressor(n_estimators = 100, random_state = 0)\n",
    "    model_rf.fit(X_train[:,order[:num_features]], y_train)\n",
    "    r2_train = r2_score(y_train, model_rf.predict(X_train[:,order[:num_features]]))\n",
    "    r2_test = r2_score(y_test, model_rf.predict(X_test[:,order[:num_features]]))\n",
    "    print(\"   ###   %i features\"%(num_features))\n",
    "    print(\"   ---   Train r2: %f\"%(r2_train))\n",
    "    print(\"   ---   Test r2:  %f\"%(r2_test))\n",
    "    importances = model_rf.feature_importances_\n",
    "    feature_order = np.argsort(importances)\n",
    "    print(feature_order[::-1])"
   ]
  },
  {
   "cell_type": "code",
   "execution_count": 20,
   "metadata": {
    "colab": {
     "base_uri": "https://localhost:8080/",
     "height": 313
    },
    "id": "mFaQiJm2x5Wt",
    "outputId": "402cd355-18cf-47e8-e3a1-dfd09e0ce159"
   },
   "outputs": [
    {
     "data": {
      "text/plain": [
       "<matplotlib.legend.Legend at 0x7f11768df910>"
      ]
     },
     "execution_count": 20,
     "metadata": {},
     "output_type": "execute_result"
    },
    {
     "data": {
      "image/png": "[encoded data removed]",
      "text/plain": [
       "<Figure size 432x288 with 1 Axes>"
      ]
     },
     "metadata": {
      "needs_background": "light"
     },
     "output_type": "display_data"
    }
   ],
   "source": [
    "import matplotlib.pyplot as plt\n",
    "preds = model_rf.predict(X_train)\n",
    "x_y_line = np.linspace(min(y_train.flatten()), max(y_train.flatten()), 500)\n",
    "plt.plot(y_train.flatten(), preds.flatten(), 'o', label='predictions')\n",
    "plt.plot(x_y_line, x_y_line, label='y=x')\n",
    "plt.xlabel(\"Log solubility (ground truth)\")\n",
    "plt.ylabel(\"Log solubility (predicted)\")\n",
    "plt.title(\"Parity plot: predictions vs ground truth data\")\n",
    "plt.legend()"
   ]
  },
  {
   "cell_type": "code",
   "execution_count": 59,
   "metadata": {
    "colab": {
     "base_uri": "https://localhost:8080/"
    },
    "id": "YnUR-fj3O55o",
    "outputId": "183d1cee-e0eb-4cce-88a2-6e8631b7b256"
   },
   "outputs": [
    {
     "data": {
      "text/plain": [
       "XGBRegressor(base_score=0.5, booster='gbtree', colsample_bylevel=1,\n",
       "             colsample_bynode=1, colsample_bytree=1, gamma=0, gpu_id=-1,\n",
       "             importance_type='gain', interaction_constraints='',\n",
       "             learning_rate=0.300000012, max_delta_step=0, max_depth=6,\n",
       "             min_child_weight=1, missing=nan, monotone_constraints='()',\n",
       "             n_estimators=100, n_jobs=8, num_parallel_tree=1, random_state=0,\n",
       "             reg_alpha=0, reg_lambda=1, scale_pos_weight=1, subsample=1,\n",
       "             tree_method='exact', validate_parameters=1, verbosity=None)"
      ]
     },
     "execution_count": 59,
     "metadata": {},
     "output_type": "execute_result"
    }
   ],
   "source": [
    "from xgboost import XGBRegressor\n",
    "model_xgr = XGBRegressor(n_estimators = 100, random_state = 0)\n",
    "model_xgr.fit(X_train, y_train)"
   ]
  },
  {
   "cell_type": "code",
   "execution_count": 60,
   "metadata": {},
   "outputs": [
    {
     "name": "stdout",
     "output_type": "stream",
     "text": [
      "Train r2: 0.993903\n",
      "Test r2:  0.912607\n"
     ]
    }
   ],
   "source": [
    "r2_train = r2_score(y_train, model_xgr.predict(X_train))\n",
    "r2_test = r2_score(y_test, model_xgr.predict(X_test))\n",
    "print(\"Train r2: %f\"%(r2_train))\n",
    "print(\"Test r2:  %f\"%(r2_test))"
   ]
  },
  {
   "cell_type": "code",
   "execution_count": 26,
   "metadata": {
    "id": "lNzFGR8_GGUf"
   },
   "outputs": [],
   "source": [
    "Y_pred_test_xgr = model_xgr.predict(X_test)"
   ]
  },
  {
   "cell_type": "code",
   "execution_count": 23,
   "metadata": {
    "id": "tXE7mnWF7rFm"
   },
   "outputs": [],
   "source": [
    "Y_pred_test_rf = model_rf.predict(X_test)\n",
    "#res = \"\\n\".join(\"{} {}\".format(x, y) for x, y in zip(y_test,Y_pred_test_rf ))\n",
    "#print(res)"
   ]
  },
  {
   "cell_type": "code",
   "execution_count": 22,
   "metadata": {
    "colab": {
     "base_uri": "https://localhost:8080/"
    },
    "id": "PHZXRqlJ8qXy",
    "outputId": "7945b883-4b1e-4a4c-fc0a-54608934324d"
   },
   "outputs": [
    {
     "data": {
      "text/plain": [
       "0.9269270505484866"
      ]
     },
     "execution_count": 22,
     "metadata": {},
     "output_type": "execute_result"
    }
   ],
   "source": [
    "from sklearn.metrics import r2_score\n",
    "r2_score(y_test, Y_pred_test_rf)"
   ]
  },
  {
   "cell_type": "code",
   "execution_count": 29,
   "metadata": {
    "colab": {
     "base_uri": "https://localhost:8080/",
     "height": 313
    },
    "id": "aJni3EK70FbI",
    "outputId": "f5dc2f37-c03a-4958-be2b-77f466c234c0"
   },
   "outputs": [
    {
     "data": {
      "text/plain": [
       "<matplotlib.legend.Legend at 0x7f1176879310>"
      ]
     },
     "execution_count": 29,
     "metadata": {},
     "output_type": "execute_result"
    },
    {
     "data": {
      "image/png": "[encoded data removed]",
      "text/plain": [
       "<Figure size 432x288 with 1 Axes>"
      ]
     },
     "metadata": {
      "needs_background": "light"
     },
     "output_type": "display_data"
    }
   ],
   "source": [
    "import matplotlib.pyplot as plt\n",
    "preds = model_rf.predict(X_test)\n",
    "x_y_line = np.linspace(min(y_test.flatten()), max(y_test.flatten()), 500)\n",
    "plt.plot(y_test.flatten(), preds.flatten(), 'o', label='predictions')\n",
    "plt.plot(x_y_line, x_y_line, label='y_test')\n",
    "plt.xlabel(\"Log solubility (ground truth)\")\n",
    "plt.ylabel(\"Log solubility (predicted)\")\n",
    "plt.title(\"Parity plot: predictions vs ground truth data\")\n",
    "plt.legend()"
   ]
  },
  {
   "cell_type": "code",
   "execution_count": 31,
   "metadata": {
    "id": "EBKea-1sQOdm"
   },
   "outputs": [],
   "source": [
    "import pickle\n",
    "#### Save the model :::::\n",
    "filename = 'finalized_model.rf'\n",
    "pickle.dump(model_rf, open('/content/drive/MyDrive/finalized_model.rf', 'wb'))\n",
    " \n",
    "\n"
   ]
  },
  {
   "cell_type": "code",
   "execution_count": 32,
   "metadata": {
    "colab": {
     "base_uri": "https://localhost:8080/"
    },
    "id": "ogonLAzwQ2I7",
    "outputId": "38caafb9-e8dc-4e0d-bc06-bb88e29fb94b"
   },
   "outputs": [
    {
     "name": "stdout",
     "output_type": "stream",
     "text": [
      "0.9269270505484866\n"
     ]
    }
   ],
   "source": [
    "# some time later...\n",
    " \n",
    "# load the model from disk\n",
    "loaded_model = pickle.load(open('/content/drive/MyDrive/finalized_model.rf', 'rb'))\n",
    "Y_pred_test_rf = loaded_model.predict(X_test)\n",
    "result = r2_score(y_test, Y_pred_test_rf)\n",
    "print(result)"
   ]
  },
  {
   "cell_type": "code",
   "execution_count": 33,
   "metadata": {
    "colab": {
     "base_uri": "https://localhost:8080/"
    },
    "id": "foaxiJ6JfAKq",
    "outputId": "e6c9bb80-eac9-4760-ab8c-01d223484ecf"
   },
   "outputs": [
    {
     "name": "stdout",
     "output_type": "stream",
     "text": [
      "Enter smiles get solubility Cc1cccc(C=C)c1\n",
      "[-3.32955893]\n"
     ]
    }
   ],
   "source": [
    "elem=input(\"Enter smiles get solubility \")\n",
    "#elem='CCc1ccccc1C'\n",
    "#moldata = []\n",
    "#for elem in smiles:\n",
    "mol = Chem.MolFromSmiles(elem)\n",
    "#moldata.append(mol)\n",
    "\n",
    "#    baseData = np.arange(1, 1)\n",
    "#    i = 0\n",
    "#    for mol in moldata:\n",
    "\n",
    "desc_MolLogP = Crippen.MolLogP(mol)\n",
    "desc_MolWt = Descriptors.MolWt(mol)\n",
    "desc_NumRotatableBonds = Lipinski.NumRotatableBonds(mol)\n",
    "desc_AromaticProportion = getAromaticProportion(mol)\n",
    "desc_Ringcount        =   Descriptors.RingCount(mol)\n",
    "desc_TPSA = Descriptors.TPSA(mol)\n",
    "desc_Hdonrs=Lipinski.NumHDonors(mol)\n",
    "desc_SaturatedRings = Lipinski.NumSaturatedRings(mol)   \n",
    "desc_AliphaticRings = Lipinski.NumAliphaticRings(mol) \n",
    "desc_HAcceptors = Lipinski.NumHAcceptors(mol)\n",
    "desc_Heteroatoms = Lipinski.NumHeteroatoms(mol)\n",
    "#desc_molMR=Descriptors.MolMR(mol)\n",
    "row = np.array([desc_MolLogP,desc_MolWt,desc_NumRotatableBonds,desc_AromaticProportion,desc_Ringcount,desc_TPSA,desc_Hdonrs,desc_SaturatedRings,desc_AliphaticRings,desc_HAcceptors,desc_Heteroatoms])\n",
    "                     #   \n",
    "                     #   \n",
    "                     #   )\n",
    "\n",
    "        #if i == 0:\n",
    "baseData = row\n",
    "        #else:\n",
    "baseData = np.vstack([row])\n",
    "#i = i + 1\n",
    "\n",
    "columnNames = [\"MolLogP\", \"MolWt\", \"NumRotatableBonds\", \"AromaticProportion\",\"Ring_Count\",\"TPSA\",\"H_donors\",\"Saturated_Rings\",\"AliphaticRings\",\"H_Acceptors\",\"Heteroatoms\"]\n",
    "descriptors = pd.DataFrame(data=baseData, columns=columnNames)\n",
    "descriptors =np.array(descriptors) \n",
    "preds=loaded_model.predict(descriptors)\n",
    "#predict_test_input = smiles_to_onehots(['elem'], charset, max_smiles_chars)\n",
    "#loaded_model1 = load_model(\"/content/drive/MyDrive/solubility_model_8858.hdf5\")\n",
    "#solubility_prediction = loaded_model.predict(predict_test_input)\n",
    "print(preds)\n",
    "#print(solubility_prediction)\n",
    "#print(type(descriptors))    \n"
   ]
  }
 ],
 "metadata": {
  "colab": {
   "authorship_tag": "ABX9TyPXT4TnlPFLNrIxlScXzTXs",
   "collapsed_sections": [],
   "include_colab_link": true,
   "mount_file_id": "1xZYXOQQdkEl2CsldTugupyeizpm0n3Wb",
   "name": "Solubility_delaney_datset_rf_xg.ipynb",
   "provenance": []
  },
  "kernelspec": {
   "display_name": "Python 3",
   "language": "python",
   "name": "python3"
  },
  "language_info": {
   "codemirror_mode": {
    "name": "ipython",
    "version": 3
   },
   "file_extension": ".py",
   "mimetype": "text/x-python",
   "name": "python",
   "nbconvert_exporter": "python",
   "pygments_lexer": "ipython3",
   "version": "3.6.8"
  }
 },
 "nbformat": 4,
 "nbformat_minor": 1
}
